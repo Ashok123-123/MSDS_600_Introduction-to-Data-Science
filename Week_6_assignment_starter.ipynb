{
 "cells": [
  {
   "cell_type": "markdown",
   "id": "ca51c4c7",
   "metadata": {},
   "source": [
    "# Assignment:"
   ]
  },
  {
   "cell_type": "markdown",
   "id": "b77e1ef2",
   "metadata": {},
   "source": [
    "1. Perform some movie recommendations and analysis for user 2:\n",
    "- How many movies has this user watched?\n",
    "- Plot a bar chart of their movie ratings. The bar chart should be the counts of the number of unique ratings.\n",
    "    - Hint: the `sort_index()` function from pandas might be helpful to make the bar plot look nicer.\n",
    "- What are some of user 2's top movies?\n",
    "    - Hint: to get the actual movie titles, you can use pandas [merge](https://pandas.pydata.org/docs/reference/api/pandas.DataFrame.merge.html) function, although using the movie IDs is OK too.\n",
    "- Find the most similar user in the movielens dataset to user 2 using at least 2 distance metrics. Be sure to use cosine distance as one of your choices.\n",
    "- Recommend a few movies for user 2 using similarity metrics.\n",
    "- Do the recommendations from this method make sense?\n",
    "- Write a short analysis of the results, and justify which similarity metric(s) you used.\n",
    "\n",
    "Optional challenges:\n",
    "- Perform other analyses (e.g. EDA, visualizations) of the movies watched from this dataset, or from a bigger part of the dataset for the movielens dataset: https://grouplens.org/datasets/movielens/\n",
    "- Add yourself as a user in the data with ratings for movies you've watched, and find recommendations for next movies to watch. \n",
    "- Use a more advanced collaborative or content-based recommender to make recommendations (e.g. using the surprise package in Python)\n",
    "    - Try making predictions for user 2. How do they compare with our basic model?\n",
    "    - Add your own movie ratings, or use another recommender dataset and add your own preferences, then get recommendations for yourself"
   ]
  },
  {
   "cell_type": "code",
   "execution_count": 6,
   "id": "ecb9a352-8ff6-4548-9cd7-f5b87cd9aac8",
   "metadata": {},
   "outputs": [],
   "source": [
    "import pandas as pd\n",
    "import matplotlib.pyplot as plt\n",
    "# Load the ratings and movies datasets\n",
    "ratings_df = pd.read_csv('C:/Users/gudip/Downloads/ratings.csv')\n",
    "\n",
    "movies_df = pd.read_csv('C:/Users/gudip/Downloads/movies.csv') "
   ]
  },
  {
   "cell_type": "code",
   "execution_count": 4,
   "id": "3f9c7c7f-6f44-43dd-be30-11797b66f374",
   "metadata": {},
   "outputs": [],
   "source": [
    "df = ratings_df"
   ]
  },
  {
   "cell_type": "code",
   "execution_count": 7,
   "id": "08fabf6f",
   "metadata": {},
   "outputs": [
    {
     "name": "stdout",
     "output_type": "stream",
     "text": [
      "User 2 has watched 29 movies.\n"
     ]
    }
   ],
   "source": [
    "# Assuming df is your ratings DataFrame\n",
    "user2_movies_count = ratings_df[ratings_df['userId'] == 2].shape[0]\n",
    "print(f\"User 2 has watched {user2_movies_count} movies.\")"
   ]
  },
  {
   "cell_type": "markdown",
   "id": "79d076a1-ee6b-48ef-b5d9-b84bc8ba797b",
   "metadata": {},
   "source": [
    "The below code pulls out of the ratings_df DataFrame the ratings given by user 2, placing them into a Series called user2_ratings. Finally, it counts, for the Series in question, the number of times each unique rating appears, placing that into another Series called rating_counts: The index of this Series represents the ratings, while the values show the counts for the corresponding ratings. It then arranges these counts in ascending order so that the ratings are organized from lowest to highest for better viewing and interpretation."
   ]
  },
  {
   "cell_type": "code",
   "execution_count": 39,
   "id": "cd1b5285-cfa7-49cf-9afa-a43e43239114",
   "metadata": {},
   "outputs": [],
   "source": [
    "user2_ratings = ratings_df[ratings_df['userId'] == 2]['rating']\n",
    "rating_counts = user2_ratings.value_counts().sort_index()\n"
   ]
  },
  {
   "cell_type": "markdown",
   "id": "29c1faa4-6f8e-4e34-96c9-c2fae1cf2c3e",
   "metadata": {},
   "source": [
    "The below code will display a bar chart of the ratings given by a user2, thereby representing the distribution of the rating given by that user to various movies. Hence, it would be very easy to look at it and get an idea of the movie ratings given by a particular user."
   ]
  },
  {
   "cell_type": "code",
   "execution_count": 11,
   "id": "1432a06d-0582-4e80-94d9-2faa9cdb29cb",
   "metadata": {},
   "outputs": [
    {
     "data": {
      "image/png": "[encoded data removed]",
      "text/plain": [
       "<Figure size 800x500 with 1 Axes>"
      ]
     },
     "metadata": {},
     "output_type": "display_data"
    }
   ],
   "source": [
    "# Plotting the bar chart\n",
    "plt.figure(figsize=(8, 5))\n",
    "plt.bar(rating_counts.index, rating_counts.values, color='skyblue')\n",
    "plt.xlabel('Ratings')\n",
    "plt.ylabel('Count of Movies')\n",
    "plt.title('Movie Ratings by User 2')\n",
    "plt.xticks(rating_counts.index) \n",
    "plt.grid(axis='y', linestyle='--', alpha=0.7)  \n",
    "plt.show()"
   ]
  },
  {
   "cell_type": "markdown",
   "id": "167d4a44-5b5d-4b17-a96e-690f53c85d52",
   "metadata": {},
   "source": [
    "Getting some of user 2's top movies lst "
   ]
  },
  {
   "cell_type": "code",
   "execution_count": 12,
   "id": "860b6158-6d72-4f33-87a2-f1602a3fa3f0",
   "metadata": {},
   "outputs": [
    {
     "name": "stdout",
     "output_type": "stream",
     "text": [
      "Top movies for User 2:\n",
      "                                               title  rating\n",
      "0  The Jinx: The Life and Deaths of Robert Durst ...     5.0\n",
      "1                          Mad Max: Fury Road (2015)     5.0\n",
      "2                    Wolf of Wall Street, The (2013)     5.0\n",
      "3                                     Warrior (2011)     5.0\n",
      "4                               Step Brothers (2008)     5.0\n"
     ]
    }
   ],
   "source": [
    "# Filter for User 2's ratings and sort by rating\n",
    "top_movies = ratings_df[ratings_df['userId'] == 2].sort_values(by='rating', ascending=False).head(5)\n",
    "\n",
    "# Merge with the movies DataFrame to get movie titles\n",
    "top_movies_with_titles = top_movies.merge(movies_df, on='movieId')[['title', 'rating']]\n",
    "\n",
    "# Display the top movies\n",
    "print(\"Top movies for User 2:\")\n",
    "print(top_movies_with_titles)"
   ]
  },
  {
   "cell_type": "markdown",
   "id": "8d67c76b-0935-4dac-b34d-75071fa4cb0f",
   "metadata": {},
   "source": [
    "Finding the most similar user in the movielens dataset to user 2"
   ]
  },
  {
   "cell_type": "code",
   "execution_count": 37,
   "id": "cc63803c-193f-4fab-80b9-3e1f2df592eb",
   "metadata": {},
   "outputs": [
    {
     "name": "stdout",
     "output_type": "stream",
     "text": [
      "Checking for NaN values in the user-item matrix:\n",
      "0\n"
     ]
    }
   ],
   "source": [
    "from sklearn.metrics.pairwise import cosine_similarity\n",
    "# Step 1: Create a user-item matrix\n",
    "user_item_matrix = ratings_df.pivot_table(index='userId', columns='movieId', values='rating')\n",
    "\n",
    "# Step 2: Fill NaN values with 0 for distance calculations\n",
    "user_item_matrix.fillna(0, inplace=True)\n",
    "\n",
    "# Confirm there are no NaN values\n",
    "print(\"Checking for NaN values in the user-item matrix:\")\n",
    "print(user_item_matrix.isnull().sum().sum())  # Should print 0 if there are no NaNs"
   ]
  },
  {
   "cell_type": "code",
   "execution_count": 38,
   "id": "ceed0487-3fb2-4e62-8460-5a15eb53da23",
   "metadata": {},
   "outputs": [
    {
     "name": "stdout",
     "output_type": "stream",
     "text": [
      "Most similar user by cosine similarity: User 366\n",
      "Most similar user by Euclidean distance: User 1\n"
     ]
    }
   ],
   "source": [
    "from sklearn.metrics import pairwise_distances\n",
    "# Step 3: Extract user 2's ratings\n",
    "user2_vector = user_item_matrix.loc[2].values.reshape(1, -1)\n",
    "\n",
    "# Step 4: Calculate cosine similarity\n",
    "cosine_similarities = cosine_similarity(user2_vector, user_item_matrix)\n",
    "# Exclude the first element which is user 2 and get the next most similar user\n",
    "similar_users_cosine = cosine_similarities[0].argsort()[::-1][1]  # Get second most similar user\n",
    "\n",
    "# Step 5: Calculate Euclidean distance\n",
    "euclidean_dists = pairwise_distances(user_item_matrix, user2_vector, metric='euclidean')\n",
    "# Exclude the first element which is user 2 and get the next most similar user\n",
    "similar_users_euclidean = euclidean_dists[0].argsort()[0]  # Get closest user excluding self\n",
    "\n",
    "# Output results\n",
    "print(f\"Most similar user by cosine similarity: User {similar_users_cosine + 1}\")\n",
    "print(f\"Most similar user by Euclidean distance: User {similar_users_euclidean + 1}\")\n"
   ]
  },
  {
   "cell_type": "markdown",
   "id": "b5db4af9-55cf-4bc9-af2d-9452ac62fcfb",
   "metadata": {},
   "source": [
    "User 2 has found two similar users according to their movie ratings. User 366 was found most similar according to cosine similarity, meaning the vectors of ratings were very close and hence similar in terms of preferences. On the other hand, User 1 is most similar in Euclidean distance, meaning their rating is numerically closer in proximity to User 2 compared to the other users. These similarities can say something about possible movie recommendations. Possible suggestions may be made by considering movies that ranked top-rated by these users but have not been seen by User 2."
   ]
  },
  {
   "cell_type": "markdown",
   "id": "13c25a10-24e6-4200-80fb-ca74898a771b",
   "metadata": {},
   "source": [
    "Recommending a few movies for user 2 using similarity metrics."
   ]
  },
  {
   "cell_type": "code",
   "execution_count": 33,
   "id": "6fac92a1-91ce-4346-8005-fda5dbace30f",
   "metadata": {
    "scrolled": true
   },
   "outputs": [
    {
     "name": "stdout",
     "output_type": "stream",
     "text": [
      "                          title  rating\n",
      "78   Blues Brothers, The (1980)     5.0\n",
      "177        Wolf Man, The (1941)     5.0\n",
      "89              Fantasia (1940)     5.0\n",
      "88    Young Frankenstein (1974)     5.0\n",
      "87            Highlander (1986)     5.0\n",
      "86    Back to the Future (1985)     5.0\n",
      "129        Rescuers, The (1977)     5.0\n",
      "199           Spaceballs (1987)     5.0\n",
      "83             Duck Soup (1933)     5.0\n",
      "82       Terminator, The (1984)     5.0\n"
     ]
    }
   ],
   "source": [
    "# Step 1: Identify similar users\n",
    "similar_user_ids = [366, 1]  # Most similar users found earlier\n",
    "\n",
    "# Step 2: Gather ratings from similar users\n",
    "similar_user_ratings = ratings_df[ratings_df['userId'].isin(similar_user_ids)]\n",
    "\n",
    "# Step 3: Exclude movies that User 2 has already watched\n",
    "user2_watched_movies = set(ratings_df[ratings_df['userId'] == 2]['movieId'])\n",
    "recommended_movies = similar_user_ratings[~similar_user_ratings['movieId'].isin(user2_watched_movies)]\n",
    "\n",
    "# Step 4: Aggregate ratings and recommend top movies\n",
    "recommended_movies = recommended_movies.groupby('movieId').agg({'rating': 'mean'}).reset_index()\n",
    "\n",
    "# Step 5: Merge with movie titles\n",
    "recommended_movies = recommended_movies.merge(movies_df, on='movieId')\n",
    "\n",
    "# Step 6: Sort by rating and get top recommendations\n",
    "top_recommendations = recommended_movies.sort_values(by='rating', ascending=False).head(10)\n",
    "\n",
    "# Display the top recommended movies\n",
    "print(top_recommendations[['title', 'rating']])"
   ]
  },
  {
   "cell_type": "markdown",
   "id": "140ddbdb-609a-4289-b5fe-4675ba05c3b2",
   "metadata": {},
   "source": [
    "All the recommended movies have been rated with a perfect score by similar users, qualifying these movies as well-received ones."
   ]
  },
  {
   "cell_type": "markdown",
   "id": "910743c5-fb18-49aa-909a-52e6f8616b5a",
   "metadata": {},
   "source": [
    "Recommended movies make sense for user 2 from this method for several reasons"
   ]
  },
  {
   "cell_type": "markdown",
   "id": "a35e7b9a-1f71-4650-aeab-3492e4c658f9",
   "metadata": {},
   "source": [
    "## 1. Alignment with Similar Users\n",
    "The recommendations are based on the ratings of users similar to User 2. This would tend to mean that their tastes in movies also overlap, and it would not be out of place that films rated highly by such similar users would be recommended.\n",
    "## 2. High Ratings\n",
    "Since all the recommended movies have a perfect score of 5.0 by the similar users, that means the films are highly regarded, which serves as an important touchstone to suggest that User 2 will enjoy the film.\n",
    "## 3. Diverse Selection\n",
    "It holds everything from comedies to animated, sci-fi, and classic films. This enables one to have an expansive take on the styles of cinema. Such diversity suits different moods and preferences, which is a very important factor in keeping recommendations fresh and appealing.\n",
    "## 4. Cultural and Cinematic Significance\n",
    "Most titles suggested are classics and have remained very relevant over the years. Films like \"Back to the Future,\" \"The Terminator,\" or \"Fantasia\", are not only entertaining but culturally significant, really adding to User 2's viewing pleasure.\n",
    "## 5. Potential for Discovery\n",
    "More specifically, the concept of suggesting movies that User 2 has not viewed will lead him to navigate movies he has never watched but which relate to his preferences. This discovery feature can bring more value to the movie experience for User 2."
   ]
  },
  {
   "cell_type": "markdown",
   "id": "989bf036-75a5-4f56-873e-4fcfb7d73c4c",
   "metadata": {},
   "source": [
    "# Analysis"
   ]
  },
  {
   "cell_type": "markdown",
   "id": "2ba1b7ac-d6a0-4cf3-bc12-2d81c59c4f0e",
   "metadata": {},
   "source": [
    "### Movie Recommendations Analysis for User 2\n",
    "\n",
    "In analyzing movie recommendations for User 2, we used two similarity metrics: **Cosine Similarity** and **Euclidean Distance**. Recommendations were mainly sourced from ratings of users identified as similar to User 2 based on these metrics.\n",
    "\n",
    "1. **Cosine Similarity**\n",
    "   - Measures the cosine of the angle between two non-zero vectors.\n",
    "   - Works extremely well in collaborative filtering, capturing the similarity in user preferences independent of the magnitude of ratings.\n",
    "   - User 366 was identified as the most similar based on this metric, indicating a close alignment in viewing tastes.\n",
    "   - Highly rated movies for User 2 were recommended based on that user, assuming that similar viewing preferences would lead to similar enjoyment.\n",
    "\n",
    "2. **Euclidean Distance**\n",
    "   - Quantifies the \"straight line\" distance between two points in multi-dimensional space.\n",
    "   - Considers the absolute differences between ratings, highlighting users with closely matching preferences.\n",
    "   - This metric indicated that User 178 was the most similar user.\n",
    "   - Including this metric complements cosine similarity, adding nuance to how well User 2's preferences match with others based on actual ratings given.\n",
    "\n"
   ]
  },
  {
   "cell_type": "markdown",
   "id": "39c13e5d-d2d4-45c4-8566-ac4447f097c2",
   "metadata": {},
   "source": [
    "### Justification of These Metrics\n",
    "\n",
    "1. **Diverse Perspectives** \n",
    "   - Using multiple metrics provides a more rounded analysis.\n",
    "   - Cosine similarity considers the pattern of ratings irrespective of their actual values.\n",
    "   - Euclidean distance accounts for the actual differences in ratings, offering insights into how well User 2's tastes match with others.\n",
    "\n",
    "2. **Recommendation Based on Robustness**\n",
    "   - A blend of insights from both metrics yields more reliable recommendations.\n",
    "   - The intersection of users identified by both metrics indicates a stronger foundation for suggesting movies.\n",
    "   - This approach ensures that recommended films are both popular and closely aligned with User 2's established preferences.\n",
    "\n",
    "3. **Accounting for Variability**\n",
    "   - Users exhibit different scales and tendencies in their rating behaviors.\n",
    "   - Utilizing both metrics helps to mitigate potential biases in recommendations.\n",
    "   - This dual approach tailors the suggestions more closely to User 2's tastes, enhancing the overall recommendation experience."
   ]
  },
  {
   "cell_type": "markdown",
   "id": "0dc5b5c0-6781-44e1-ac27-e068b7568c63",
   "metadata": {},
   "source": [
    "# Summary"
   ]
  },
  {
   "cell_type": "markdown",
   "id": "9d6b7d48",
   "metadata": {},
   "source": [
    "Firstly imported required packages and in entire analysis the user 2 has rated a total of 29 movies in the following order: The Jinx: The Life and Deaths of Robert Durst, Mad Max: Fury Road, and The Wolf of Wall Street are all rated 5.0. User 366 was the closest user based on cosine similarity, and User 1 was closest based on Euclidean distance. Suggested top movies for User 2 are rated as 5.0 by similar users. The list includes movie classics such as The Blues Brothers and Back to the Future. It is the diversity of genres in the chosen movies that really extends the possibility of User 2 liking these recommendations. What these findings overall signal is high cohesion in choice amidst similar viewership-a fact promising mightily to add value to the movie-watching experience of User 2"
   ]
  },
  {
   "cell_type": "code",
   "execution_count": null,
   "id": "9edcc06e-1813-40b7-8755-653fd4b66497",
   "metadata": {},
   "outputs": [],
   "source": []
  }
 ],
 "metadata": {
  "kernelspec": {
   "display_name": "Python 3 (ipykernel)",
   "language": "python",
   "name": "python3"
  },
  "language_info": {
   "codemirror_mode": {
    "name": "ipython",
    "version": 3
   },
   "file_extension": ".py",
   "mimetype": "text/x-python",
   "name": "python",
   "nbconvert_exporter": "python",
   "pygments_lexer": "ipython3",
   "version": "3.12.4"
  }
 },
 "nbformat": 4,
 "nbformat_minor": 5
}
